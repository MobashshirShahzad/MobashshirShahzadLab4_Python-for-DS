{
 "cells": [
  {
   "cell_type": "code",
   "execution_count": null,
   "id": "a41263a2-4eeb-4561-bff6-e3cde182c036",
   "metadata": {},
   "outputs": [],
   "source": []
  }
 ],
 "metadata": {
  "kernelspec": {
   "display_name": "",
   "name": ""
  },
  "language_info": {
   "name": ""
  }
 },
 "nbformat": 4,
 "nbformat_minor": 5
}
